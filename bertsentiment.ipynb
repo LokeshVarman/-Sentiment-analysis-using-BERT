{
  "nbformat": 4,
  "nbformat_minor": 0,
  "metadata": {
    "colab": {
      "name": "bertsentiment.ipynb",
      "provenance": [],
      "collapsed_sections": []
    },
    "kernelspec": {
      "name": "python3",
      "display_name": "Python 3"
    },
    "language_info": {
      "name": "python"
    }
  },
  "cells": [
    {
      "cell_type": "code",
      "metadata": {
        "id": "VbcQCxur9LsJ",
        "outputId": "b44cd243-faf4-4c8d-aad1-1b882bb5b995",
        "colab": {
          "base_uri": "https://localhost:8080/"
        }
      },
      "source": [
        "!pip install transformers requests pandas numpy"
      ],
      "execution_count": 69,
      "outputs": [
        {
          "output_type": "stream",
          "name": "stdout",
          "text": [
            "Requirement already satisfied: transformers in /usr/local/lib/python3.7/dist-packages (4.10.0)\n",
            "Requirement already satisfied: requests in /usr/local/lib/python3.7/dist-packages (2.23.0)\n",
            "Requirement already satisfied: beautifulsoup4 in /usr/local/lib/python3.7/dist-packages (4.6.3)\n",
            "Requirement already satisfied: pandas in /usr/local/lib/python3.7/dist-packages (1.1.5)\n",
            "Requirement already satisfied: numpy in /usr/local/lib/python3.7/dist-packages (1.19.5)\n",
            "Requirement already satisfied: huggingface-hub>=0.0.12 in /usr/local/lib/python3.7/dist-packages (from transformers) (0.0.16)\n",
            "Requirement already satisfied: importlib-metadata in /usr/local/lib/python3.7/dist-packages (from transformers) (4.6.4)\n",
            "Requirement already satisfied: packaging in /usr/local/lib/python3.7/dist-packages (from transformers) (21.0)\n",
            "Requirement already satisfied: sacremoses in /usr/local/lib/python3.7/dist-packages (from transformers) (0.0.45)\n",
            "Requirement already satisfied: filelock in /usr/local/lib/python3.7/dist-packages (from transformers) (3.0.12)\n",
            "Requirement already satisfied: tokenizers<0.11,>=0.10.1 in /usr/local/lib/python3.7/dist-packages (from transformers) (0.10.3)\n",
            "Requirement already satisfied: pyyaml>=5.1 in /usr/local/lib/python3.7/dist-packages (from transformers) (5.4.1)\n",
            "Requirement already satisfied: tqdm>=4.27 in /usr/local/lib/python3.7/dist-packages (from transformers) (4.62.0)\n",
            "Requirement already satisfied: regex!=2019.12.17 in /usr/local/lib/python3.7/dist-packages (from transformers) (2019.12.20)\n",
            "Requirement already satisfied: typing-extensions in /usr/local/lib/python3.7/dist-packages (from huggingface-hub>=0.0.12->transformers) (3.7.4.3)\n",
            "Requirement already satisfied: pyparsing>=2.0.2 in /usr/local/lib/python3.7/dist-packages (from packaging->transformers) (2.4.7)\n",
            "Requirement already satisfied: chardet<4,>=3.0.2 in /usr/local/lib/python3.7/dist-packages (from requests) (3.0.4)\n",
            "Requirement already satisfied: idna<3,>=2.5 in /usr/local/lib/python3.7/dist-packages (from requests) (2.10)\n",
            "Requirement already satisfied: urllib3!=1.25.0,!=1.25.1,<1.26,>=1.21.1 in /usr/local/lib/python3.7/dist-packages (from requests) (1.24.3)\n",
            "Requirement already satisfied: certifi>=2017.4.17 in /usr/local/lib/python3.7/dist-packages (from requests) (2021.5.30)\n",
            "Requirement already satisfied: pytz>=2017.2 in /usr/local/lib/python3.7/dist-packages (from pandas) (2018.9)\n",
            "Requirement already satisfied: python-dateutil>=2.7.3 in /usr/local/lib/python3.7/dist-packages (from pandas) (2.8.2)\n",
            "Requirement already satisfied: six>=1.5 in /usr/local/lib/python3.7/dist-packages (from python-dateutil>=2.7.3->pandas) (1.15.0)\n",
            "Requirement already satisfied: zipp>=0.5 in /usr/local/lib/python3.7/dist-packages (from importlib-metadata->transformers) (3.5.0)\n",
            "Requirement already satisfied: joblib in /usr/local/lib/python3.7/dist-packages (from sacremoses->transformers) (1.0.1)\n",
            "Requirement already satisfied: click in /usr/local/lib/python3.7/dist-packages (from sacremoses->transformers) (7.1.2)\n"
          ]
        }
      ]
    },
    {
      "cell_type": "code",
      "metadata": {
        "id": "79M6SdhLfdxo"
      },
      "source": [
        "from transformers import AutoTokenizer, AutoModelForSequenceClassification\n",
        "import torch"
      ],
      "execution_count": 70,
      "outputs": []
    },
    {
      "cell_type": "code",
      "metadata": {
        "id": "aAibjTlMhsjW"
      },
      "source": [
        "tokenizer = AutoTokenizer.from_pretrained('nlptown/bert-base-multilingual-uncased-sentiment')\n",
        "\n",
        "model = AutoModelForSequenceClassification.from_pretrained('nlptown/bert-base-multilingual-uncased-sentiment')"
      ],
      "execution_count": 71,
      "outputs": []
    },
    {
      "cell_type": "code",
      "metadata": {
        "id": "Np_MueoQFdlP",
        "outputId": "850c1d0b-846c-4e56-c5ba-213595c80638",
        "colab": {
          "base_uri": "https://localhost:8080/"
        }
      },
      "source": [
        "import numpy as np\n",
        "import pandas as pd\n",
        "pd.set_option(\"display.max_colwidth\", -1)"
      ],
      "execution_count": 84,
      "outputs": [
        {
          "output_type": "stream",
          "name": "stderr",
          "text": [
            "/usr/local/lib/python3.7/dist-packages/ipykernel_launcher.py:3: FutureWarning: Passing a negative integer is deprecated in version 1.0 and will not be supported in future version. Instead, use None to not limit the column width.\n",
            "  This is separate from the ipykernel package so we can avoid doing imports until\n"
          ]
        }
      ]
    },
    {
      "cell_type": "code",
      "metadata": {
        "id": "36rY90MaHplE"
      },
      "source": [
        "df = pd.read_excel('/content/Samsung_Galaxy_Z.xlsx')"
      ],
      "execution_count": 85,
      "outputs": []
    },
    {
      "cell_type": "code",
      "metadata": {
        "colab": {
          "base_uri": "https://localhost:8080/",
          "height": 691
        },
        "id": "_ltwG_m4ngkS",
        "outputId": "8e7d9cd8-f638-4f4f-bd58-4b0a24dc80dc"
      },
      "source": [
        "df.head()"
      ],
      "execution_count": 86,
      "outputs": [
        {
          "output_type": "execute_result",
          "data": {
            "text/html": [
              "<div>\n",
              "<style scoped>\n",
              "    .dataframe tbody tr th:only-of-type {\n",
              "        vertical-align: middle;\n",
              "    }\n",
              "\n",
              "    .dataframe tbody tr th {\n",
              "        vertical-align: top;\n",
              "    }\n",
              "\n",
              "    .dataframe thead th {\n",
              "        text-align: right;\n",
              "    }\n",
              "</style>\n",
              "<table border=\"1\" class=\"dataframe\">\n",
              "  <thead>\n",
              "    <tr style=\"text-align: right;\">\n",
              "      <th></th>\n",
              "      <th>product</th>\n",
              "      <th>title</th>\n",
              "      <th>rating</th>\n",
              "      <th>body</th>\n",
              "    </tr>\n",
              "  </thead>\n",
              "  <tbody>\n",
              "    <tr>\n",
              "      <th>0</th>\n",
              "      <td>Samsung Galaxy Z Fold2 5G Mystic Bronze, 12GB RAM, 256GB Storage</td>\n",
              "      <td>Samsung Z Fold 2 is Masterpiece</td>\n",
              "      <td>5</td>\n",
              "      <td>One of the best Samsung phones so farBut you have to very careful using this device..But one cons is there,while charging hefty amount they should provide atleast Samsung Buds 😞Multitasking and Flex Mode are great..Samsung Z Fold 2 is Beast</td>\n",
              "    </tr>\n",
              "    <tr>\n",
              "      <th>1</th>\n",
              "      <td>Samsung Galaxy Z Fold2 5G Mystic Bronze, 12GB RAM, 256GB Storage</td>\n",
              "      <td>Exceptional mobile which stands out from the crowd</td>\n",
              "      <td>5</td>\n",
              "      <td>Product was excellent.if you can use the mobile with little care and you can shell the asking price this was the best mobile you can buy at any price point.but the the shipping was slow even if i had prebooked the product.</td>\n",
              "    </tr>\n",
              "    <tr>\n",
              "      <th>2</th>\n",
              "      <td>Samsung Galaxy Z Fold2 5G Mystic Bronze, 12GB RAM, 256GB Storage</td>\n",
              "      <td>Excellent Phone and you pay for the excellence</td>\n",
              "      <td>5</td>\n",
              "      <td>Great Premium Phone. The concept is great and it is a huge improvement over Fold1.Some Cons/shortcomings - Storage should have been 512GB, No Micro SD Card, should have got free Buds as being given in western countries, feels a bit heavier, no S Pen.</td>\n",
              "    </tr>\n",
              "    <tr>\n",
              "      <th>3</th>\n",
              "      <td>Samsung Galaxy Z Fold2 5G Mystic Bronze, 12GB RAM, 256GB Storage</td>\n",
              "      <td>The best alternative to life</td>\n",
              "      <td>5</td>\n",
              "      <td>For 1.5 lac rupees I could have booked a flight to travel to the relatives house and talk with them,for the same amount I could have bought a scooty and visited the near and dear ones to communicate,and could watch movies in theatres with the money to spare. since this covid has not allowed to do all that ,I am grateful for Samsung to launch such phone so that I can experience the movies the chats without the need to step outside.only downside is now o don't have money to eat.but I love the amoled</td>\n",
              "    </tr>\n",
              "    <tr>\n",
              "      <th>4</th>\n",
              "      <td>Samsung Galaxy Z Fold2 5G Mystic Bronze, 12GB RAM, 256GB Storage</td>\n",
              "      <td>Completely changes your experience while using a phone</td>\n",
              "      <td>5</td>\n",
              "      <td>I have been a long time iphone user, but due to the delay in this year's iphone 12 launch and the innovation shown by Samsung with this phone, I made the jump to the Fold 2 this time. I must say that the premium build, large screen and awesome camera has made it truly worth it. Kudos to Samsung for the competitive pricing as well, was expecting this to be launched at ~1.7-1.8 Lakhs. Wherever I take this phone, this turns heads for sure. The large OLED screen is perfect for watching content and it supports HDR on netflix as well. Overall, an awesome product and am loving it!</td>\n",
              "    </tr>\n",
              "  </tbody>\n",
              "</table>\n",
              "</div>"
            ],
            "text/plain": [
              "                                                            product  ...                                                                                                                                                                                                                                                                                                                                                                                                                                                                                                                                                                                                  body\n",
              "0  Samsung Galaxy Z Fold2 5G Mystic Bronze, 12GB RAM, 256GB Storage  ...  One of the best Samsung phones so farBut you have to very careful using this device..But one cons is there,while charging hefty amount they should provide atleast Samsung Buds 😞Multitasking and Flex Mode are great..Samsung Z Fold 2 is Beast                                                                                                                                                                                                                                                                                                                                                    \n",
              "1  Samsung Galaxy Z Fold2 5G Mystic Bronze, 12GB RAM, 256GB Storage  ...  Product was excellent.if you can use the mobile with little care and you can shell the asking price this was the best mobile you can buy at any price point.but the the shipping was slow even if i had prebooked the product.                                                                                                                                                                                                                                                                                                                                                                      \n",
              "2  Samsung Galaxy Z Fold2 5G Mystic Bronze, 12GB RAM, 256GB Storage  ...  Great Premium Phone. The concept is great and it is a huge improvement over Fold1.Some Cons/shortcomings - Storage should have been 512GB, No Micro SD Card, should have got free Buds as being given in western countries, feels a bit heavier, no S Pen.                                                                                                                                                                                                                                                                                                                                          \n",
              "3  Samsung Galaxy Z Fold2 5G Mystic Bronze, 12GB RAM, 256GB Storage  ...  For 1.5 lac rupees I could have booked a flight to travel to the relatives house and talk with them,for the same amount I could have bought a scooty and visited the near and dear ones to communicate,and could watch movies in theatres with the money to spare. since this covid has not allowed to do all that ,I am grateful for Samsung to launch such phone so that I can experience the movies the chats without the need to step outside.only downside is now o don't have money to eat.but I love the amoled                                                                              \n",
              "4  Samsung Galaxy Z Fold2 5G Mystic Bronze, 12GB RAM, 256GB Storage  ...  I have been a long time iphone user, but due to the delay in this year's iphone 12 launch and the innovation shown by Samsung with this phone, I made the jump to the Fold 2 this time. I must say that the premium build, large screen and awesome camera has made it truly worth it. Kudos to Samsung for the competitive pricing as well, was expecting this to be launched at ~1.7-1.8 Lakhs. Wherever I take this phone, this turns heads for sure. The large OLED screen is perfect for watching content and it supports HDR on netflix as well. Overall, an awesome product and am loving it!\n",
              "\n",
              "[5 rows x 4 columns]"
            ]
          },
          "metadata": {},
          "execution_count": 86
        }
      ]
    },
    {
      "cell_type": "code",
      "metadata": {
        "colab": {
          "base_uri": "https://localhost:8080/"
        },
        "id": "SEYD99Uk7ZAE",
        "outputId": "d30d57d5-0932-4430-c7cb-8df808febff9"
      },
      "source": [
        "df.shape"
      ],
      "execution_count": 88,
      "outputs": [
        {
          "output_type": "execute_result",
          "data": {
            "text/plain": [
              "(46, 4)"
            ]
          },
          "metadata": {},
          "execution_count": 88
        }
      ]
    },
    {
      "cell_type": "code",
      "metadata": {
        "id": "1NM51HUqS8Kv"
      },
      "source": [
        "df.drop(['product','title'],axis=1,inplace=True)"
      ],
      "execution_count": 89,
      "outputs": []
    },
    {
      "cell_type": "code",
      "metadata": {
        "colab": {
          "base_uri": "https://localhost:8080/",
          "height": 70
        },
        "id": "FnVIGzojHrvk",
        "outputId": "159f34b0-3b84-4d1f-86d2-000dfa86e2c9"
      },
      "source": [
        "df['body'].iloc[0]"
      ],
      "execution_count": 90,
      "outputs": [
        {
          "output_type": "execute_result",
          "data": {
            "application/vnd.google.colaboratory.intrinsic+json": {
              "type": "string"
            },
            "text/plain": [
              "'One of the best Samsung phones so farBut you have to very careful using this device..But one cons is there,while charging hefty amount they should provide atleast Samsung Buds 😞Multitasking and Flex Mode are great..Samsung Z Fold 2 is Beast'"
            ]
          },
          "metadata": {},
          "execution_count": 90
        }
      ]
    },
    {
      "cell_type": "code",
      "metadata": {
        "id": "1zZ0tHqpHrow"
      },
      "source": [
        "def sentiment_score(review):\n",
        "    tokens = tokenizer.encode(review, return_tensors='pt')\n",
        "    result = model(tokens)\n",
        "    return int(torch.argmax(result.logits))+1"
      ],
      "execution_count": 91,
      "outputs": []
    },
    {
      "cell_type": "code",
      "metadata": {
        "colab": {
          "base_uri": "https://localhost:8080/"
        },
        "id": "s9DZfDawH1nv",
        "outputId": "78d75950-0e11-4a58-858c-3b7d6804aff2"
      },
      "source": [
        "sentiment_score(df['body'].iloc[3])"
      ],
      "execution_count": 92,
      "outputs": [
        {
          "output_type": "execute_result",
          "data": {
            "text/plain": [
              "4"
            ]
          },
          "metadata": {},
          "execution_count": 92
        }
      ]
    },
    {
      "cell_type": "code",
      "metadata": {
        "id": "xyu86HA98tAk"
      },
      "source": [
        "df['sentiment'] = df['body'].apply(lambda x: sentiment_score(x[:46]))"
      ],
      "execution_count": 93,
      "outputs": []
    },
    {
      "cell_type": "code",
      "metadata": {
        "id": "4DQ-gbJyr_QZ",
        "colab": {
          "base_uri": "https://localhost:8080/",
          "height": 1000
        },
        "outputId": "6d2575a8-aaf4-4f39-d0a0-d9af23ea9b0d"
      },
      "source": [
        "sentiment_score = {1: 0,\n",
        "                   2: 0,\n",
        "                   3: 0,\n",
        "                   4: 1,\n",
        "                   5: 1}\n",
        "\n",
        "sentimentw = {0: 'NEGATIVE',\n",
        "             1: 'POSITIVE'}\n",
        "\n",
        "\n",
        "\n",
        "df['sentiment_score'] = df['sentiment'].map(sentiment_score)\n",
        "df['sentimentw'] = df['sentiment_score'].map(sentimentw)\n",
        "df.drop(['sentiment','sentiment_score'],axis=1,inplace=True)\n",
        "df.head(20)"
      ],
      "execution_count": 94,
      "outputs": [
        {
          "output_type": "execute_result",
          "data": {
            "text/html": [
              "<div>\n",
              "<style scoped>\n",
              "    .dataframe tbody tr th:only-of-type {\n",
              "        vertical-align: middle;\n",
              "    }\n",
              "\n",
              "    .dataframe tbody tr th {\n",
              "        vertical-align: top;\n",
              "    }\n",
              "\n",
              "    .dataframe thead th {\n",
              "        text-align: right;\n",
              "    }\n",
              "</style>\n",
              "<table border=\"1\" class=\"dataframe\">\n",
              "  <thead>\n",
              "    <tr style=\"text-align: right;\">\n",
              "      <th></th>\n",
              "      <th>rating</th>\n",
              "      <th>body</th>\n",
              "      <th>sentimentw</th>\n",
              "    </tr>\n",
              "  </thead>\n",
              "  <tbody>\n",
              "    <tr>\n",
              "      <th>0</th>\n",
              "      <td>5</td>\n",
              "      <td>One of the best Samsung phones so farBut you have to very careful using this device..But one cons is there,while charging hefty amount they should provide atleast Samsung Buds 😞Multitasking and Flex Mode are great..Samsung Z Fold 2 is Beast</td>\n",
              "      <td>POSITIVE</td>\n",
              "    </tr>\n",
              "    <tr>\n",
              "      <th>1</th>\n",
              "      <td>5</td>\n",
              "      <td>Product was excellent.if you can use the mobile with little care and you can shell the asking price this was the best mobile you can buy at any price point.but the the shipping was slow even if i had prebooked the product.</td>\n",
              "      <td>POSITIVE</td>\n",
              "    </tr>\n",
              "    <tr>\n",
              "      <th>2</th>\n",
              "      <td>5</td>\n",
              "      <td>Great Premium Phone. The concept is great and it is a huge improvement over Fold1.Some Cons/shortcomings - Storage should have been 512GB, No Micro SD Card, should have got free Buds as being given in western countries, feels a bit heavier, no S Pen.</td>\n",
              "      <td>POSITIVE</td>\n",
              "    </tr>\n",
              "    <tr>\n",
              "      <th>3</th>\n",
              "      <td>5</td>\n",
              "      <td>For 1.5 lac rupees I could have booked a flight to travel to the relatives house and talk with them,for the same amount I could have bought a scooty and visited the near and dear ones to communicate,and could watch movies in theatres with the money to spare. since this covid has not allowed to do all that ,I am grateful for Samsung to launch such phone so that I can experience the movies the chats without the need to step outside.only downside is now o don't have money to eat.but I love the amoled</td>\n",
              "      <td>NEGATIVE</td>\n",
              "    </tr>\n",
              "    <tr>\n",
              "      <th>4</th>\n",
              "      <td>5</td>\n",
              "      <td>I have been a long time iphone user, but due to the delay in this year's iphone 12 launch and the innovation shown by Samsung with this phone, I made the jump to the Fold 2 this time. I must say that the premium build, large screen and awesome camera has made it truly worth it. Kudos to Samsung for the competitive pricing as well, was expecting this to be launched at ~1.7-1.8 Lakhs. Wherever I take this phone, this turns heads for sure. The large OLED screen is perfect for watching content and it supports HDR on netflix as well. Overall, an awesome product and am loving it!</td>\n",
              "      <td>NEGATIVE</td>\n",
              "    </tr>\n",
              "    <tr>\n",
              "      <th>5</th>\n",
              "      <td>5</td>\n",
              "      <td>Two weeks with this phone, i am not sure if it is ok to call it a phone. It’s a performance powerhouse, i can do all my daily tasks on this phone and i barely feel the need to go back to my laptop wven for processing a document or write a big email.This has really made my day to day working seamless</td>\n",
              "      <td>NEGATIVE</td>\n",
              "    </tr>\n",
              "    <tr>\n",
              "      <th>6</th>\n",
              "      <td>5</td>\n",
              "      <td>I upgraded from samsung fold to samsung z fold 2...its really a better experience to use this gadget.</td>\n",
              "      <td>POSITIVE</td>\n",
              "    </tr>\n",
              "    <tr>\n",
              "      <th>7</th>\n",
              "      <td>1</td>\n",
              "      <td>Under two weeks of usage not able to install sim/esim.Not charging Kindly replace the item,It was with Samsung service service center on November 8</td>\n",
              "      <td>NEGATIVE</td>\n",
              "    </tr>\n",
              "    <tr>\n",
              "      <th>8</th>\n",
              "      <td>5</td>\n",
              "      <td>This phone does pretty well to justify its pricetag. The display, cameras, build quality, it's all great.Though there is currently a lack of proper cases for it. That is necessary given how expensive this is.</td>\n",
              "      <td>POSITIVE</td>\n",
              "    </tr>\n",
              "    <tr>\n",
              "      <th>9</th>\n",
              "      <td>5</td>\n",
              "      <td>Awesome phone .....too good and thank god for samsung providing the exonys chipset.A beast phone and one of the best.</td>\n",
              "      <td>POSITIVE</td>\n",
              "    </tr>\n",
              "    <tr>\n",
              "      <th>10</th>\n",
              "      <td>1</td>\n",
              "      <td>Except satisfying one's vanity, this phone is UNUSABLE in facility, highly DROPPABLE, CLUNKY.A White Elephant. The unfolded quality DISPLAY is the saving grace...Please list your scenarios of usage before sinking your money here.And I am a Galaxy fan and users incentive, since the S7 stole the show in Barcelona with its ALWAYS ON display.</td>\n",
              "      <td>NEGATIVE</td>\n",
              "    </tr>\n",
              "    <tr>\n",
              "      <th>11</th>\n",
              "      <td>1</td>\n",
              "      <td>Bubbles formed in the middle of the phone after just 1 month. Would not recommend this phone</td>\n",
              "      <td>NEGATIVE</td>\n",
              "    </tr>\n",
              "    <tr>\n",
              "      <th>12</th>\n",
              "      <td>5</td>\n",
              "      <td>Amazing phone very good got delivery within 12 hours in good condition with sealed box</td>\n",
              "      <td>POSITIVE</td>\n",
              "    </tr>\n",
              "    <tr>\n",
              "      <th>13</th>\n",
              "      <td>4</td>\n",
              "      <td>First review after using the phone for 2 to 3 hours:Very excited to use the phone and eager how it looks till I get the phone from the time of order.Pros:If you are gamer then you will enjoy the big screen and resolution.Both the Cameras are just awesome ( best in market)Looks and feels premium when you hold it in your handComes with dual battery which last for 2 days for heavy usersPerformance of the phone is expected to be great due to its price and is up to mark till now.Comes with 25w charger and supports wireless charging.Cons:Main problem to buy the phone is its price.. which I feel it's over priced.Feels bit heavier.As I like using slim phones.. felt bit uncomfortable in holding the phone.Nothing much different from other samsung phones.. only the fold is exciting.Overall rating considering the price and specification of the product: 3/5.</td>\n",
              "      <td>NEGATIVE</td>\n",
              "    </tr>\n",
              "    <tr>\n",
              "      <th>14</th>\n",
              "      <td>5</td>\n",
              "      <td>After a few days usage I must say, shockingly great device.Call, sms, WhatsApp, facebook, office, pdf do whatever... At the ease of this device.ONLY THING YOU NEED TO TAKE CARE OF THE MIDDLE SCREEN... THE FOLDABLE SCREEN.Snapdragon 865+,12GB RAM, 256GB ROM, 4500 BATTERY, SAMSUNG PAY!!!You name it, Samsung has given it!</td>\n",
              "      <td>NEGATIVE</td>\n",
              "    </tr>\n",
              "    <tr>\n",
              "      <th>15</th>\n",
              "      <td>3</td>\n",
              "      <td>The phone is fine. Except a bit small to type with closed screen and a bit large to type with open screen. What is unfair is that you can get this phone for INR 140, 000 with watch and headphones in the market. they are selling it for INR 150, 000 without headphone and the watch. What kind of system is that? Where is my watch and headphones????</td>\n",
              "      <td>POSITIVE</td>\n",
              "    </tr>\n",
              "    <tr>\n",
              "      <th>16</th>\n",
              "      <td>3</td>\n",
              "      <td>It's not easy to carry  And operate .front screen is small. Not fit for insurance</td>\n",
              "      <td>NEGATIVE</td>\n",
              "    </tr>\n",
              "    <tr>\n",
              "      <th>17</th>\n",
              "      <td>5</td>\n",
              "      <td>Samsung delivers again with their newest flagship in foldable smartphones. The Galaxy Fold 2 has fixed perhaps a lot of the pressing issues with the Fold 1 and made it faster and better.The hinge is perhaps the most important piece of any foldable tech and Samsung definitely delivers in this regard. Initially I was very worried about opening and closing my phone but the transition is pretty smooth and within five minutes of holding this device you will get used it it. (Tip: Don't press the screen when folding but using the bottom-middle area of the hinge and fold your phone it will protect the screen longer)Whilst many people have concerns with the durability of the phone, I have already dropped it twice (both when it was closed thankfully) and so far it has survived but I don't recommend you doing it.Performance is excellent with 12 gigs of ram, latest processor from snapdragon and am excellent GPU. Games and applications run smoothly without any lag. Sound is excellent with dual speakers! Multiple apps can also run simultaneously without issues. Recommend getting the goodlock app to unlock several features of the phone and customize them further.Price is sadly very very steep though I couldn't resist and bought it anyway but I feel like it should have atleast provided the galaxy buds live or pro along with the phone. But at least you do get the wired AKG earbuds which are excellent. No case is provided which is another downer. Samsung if you are selling a phone at a premium price you should atleast provide a premium accessory!Overall I'm definitely loving this phone.</td>\n",
              "      <td>POSITIVE</td>\n",
              "    </tr>\n",
              "    <tr>\n",
              "      <th>18</th>\n",
              "      <td>5</td>\n",
              "      <td>Pros : large screen is Great for movies and official mails. Head turner when you open it in front of others. Loud speakers and awesome speed.Cons : Messaging keypad is too small when closed and too large when opened. Opening needs to be simplified. If it falls you are done with 1.5 lacs. This price would get you 2 high end Models of Microsoft surface pro with all accessories.</td>\n",
              "      <td>POSITIVE</td>\n",
              "    </tr>\n",
              "    <tr>\n",
              "      <th>19</th>\n",
              "      <td>1</td>\n",
              "      <td>over heating issues and low battery back up.</td>\n",
              "      <td>NEGATIVE</td>\n",
              "    </tr>\n",
              "  </tbody>\n",
              "</table>\n",
              "</div>"
            ],
            "text/plain": [
              "    rating  ... sentimentw\n",
              "0   5       ...  POSITIVE \n",
              "1   5       ...  POSITIVE \n",
              "2   5       ...  POSITIVE \n",
              "3   5       ...  NEGATIVE \n",
              "4   5       ...  NEGATIVE \n",
              "5   5       ...  NEGATIVE \n",
              "6   5       ...  POSITIVE \n",
              "7   1       ...  NEGATIVE \n",
              "8   5       ...  POSITIVE \n",
              "9   5       ...  POSITIVE \n",
              "10  1       ...  NEGATIVE \n",
              "11  1       ...  NEGATIVE \n",
              "12  5       ...  POSITIVE \n",
              "13  4       ...  NEGATIVE \n",
              "14  5       ...  NEGATIVE \n",
              "15  3       ...  POSITIVE \n",
              "16  3       ...  NEGATIVE \n",
              "17  5       ...  POSITIVE \n",
              "18  5       ...  POSITIVE \n",
              "19  1       ...  NEGATIVE \n",
              "\n",
              "[20 rows x 3 columns]"
            ]
          },
          "metadata": {},
          "execution_count": 94
        }
      ]
    },
    {
      "cell_type": "code",
      "metadata": {
        "id": "dC0EXatz-qdn",
        "outputId": "a4921e75-bf7d-4d7e-f928-85ca39b28f53",
        "colab": {
          "base_uri": "https://localhost:8080/",
          "height": 1000
        }
      },
      "source": [
        "df1 = df[(df[\"rating\"]>3) & (df[\"sentimentw\"]==\"NEGATIVE\")]\n",
        "df1.head(40)\n"
      ],
      "execution_count": 95,
      "outputs": [
        {
          "output_type": "execute_result",
          "data": {
            "text/html": [
              "<div>\n",
              "<style scoped>\n",
              "    .dataframe tbody tr th:only-of-type {\n",
              "        vertical-align: middle;\n",
              "    }\n",
              "\n",
              "    .dataframe tbody tr th {\n",
              "        vertical-align: top;\n",
              "    }\n",
              "\n",
              "    .dataframe thead th {\n",
              "        text-align: right;\n",
              "    }\n",
              "</style>\n",
              "<table border=\"1\" class=\"dataframe\">\n",
              "  <thead>\n",
              "    <tr style=\"text-align: right;\">\n",
              "      <th></th>\n",
              "      <th>rating</th>\n",
              "      <th>body</th>\n",
              "      <th>sentimentw</th>\n",
              "    </tr>\n",
              "  </thead>\n",
              "  <tbody>\n",
              "    <tr>\n",
              "      <th>3</th>\n",
              "      <td>5</td>\n",
              "      <td>For 1.5 lac rupees I could have booked a flight to travel to the relatives house and talk with them,for the same amount I could have bought a scooty and visited the near and dear ones to communicate,and could watch movies in theatres with the money to spare. since this covid has not allowed to do all that ,I am grateful for Samsung to launch such phone so that I can experience the movies the chats without the need to step outside.only downside is now o don't have money to eat.but I love the amoled</td>\n",
              "      <td>NEGATIVE</td>\n",
              "    </tr>\n",
              "    <tr>\n",
              "      <th>4</th>\n",
              "      <td>5</td>\n",
              "      <td>I have been a long time iphone user, but due to the delay in this year's iphone 12 launch and the innovation shown by Samsung with this phone, I made the jump to the Fold 2 this time. I must say that the premium build, large screen and awesome camera has made it truly worth it. Kudos to Samsung for the competitive pricing as well, was expecting this to be launched at ~1.7-1.8 Lakhs. Wherever I take this phone, this turns heads for sure. The large OLED screen is perfect for watching content and it supports HDR on netflix as well. Overall, an awesome product and am loving it!</td>\n",
              "      <td>NEGATIVE</td>\n",
              "    </tr>\n",
              "    <tr>\n",
              "      <th>5</th>\n",
              "      <td>5</td>\n",
              "      <td>Two weeks with this phone, i am not sure if it is ok to call it a phone. It’s a performance powerhouse, i can do all my daily tasks on this phone and i barely feel the need to go back to my laptop wven for processing a document or write a big email.This has really made my day to day working seamless</td>\n",
              "      <td>NEGATIVE</td>\n",
              "    </tr>\n",
              "    <tr>\n",
              "      <th>13</th>\n",
              "      <td>4</td>\n",
              "      <td>First review after using the phone for 2 to 3 hours:Very excited to use the phone and eager how it looks till I get the phone from the time of order.Pros:If you are gamer then you will enjoy the big screen and resolution.Both the Cameras are just awesome ( best in market)Looks and feels premium when you hold it in your handComes with dual battery which last for 2 days for heavy usersPerformance of the phone is expected to be great due to its price and is up to mark till now.Comes with 25w charger and supports wireless charging.Cons:Main problem to buy the phone is its price.. which I feel it's over priced.Feels bit heavier.As I like using slim phones.. felt bit uncomfortable in holding the phone.Nothing much different from other samsung phones.. only the fold is exciting.Overall rating considering the price and specification of the product: 3/5.</td>\n",
              "      <td>NEGATIVE</td>\n",
              "    </tr>\n",
              "    <tr>\n",
              "      <th>14</th>\n",
              "      <td>5</td>\n",
              "      <td>After a few days usage I must say, shockingly great device.Call, sms, WhatsApp, facebook, office, pdf do whatever... At the ease of this device.ONLY THING YOU NEED TO TAKE CARE OF THE MIDDLE SCREEN... THE FOLDABLE SCREEN.Snapdragon 865+,12GB RAM, 256GB ROM, 4500 BATTERY, SAMSUNG PAY!!!You name it, Samsung has given it!</td>\n",
              "      <td>NEGATIVE</td>\n",
              "    </tr>\n",
              "    <tr>\n",
              "      <th>20</th>\n",
              "      <td>4</td>\n",
              "      <td>I was so skeptical before buying this since I couldn't try this in person in any of the physical shops. After changing phones for many years, never found a big jump in usage. This phone was a big leap. Only disadvantage is that it's a bit heavy to use. Other than that I don't have any issues. Looking forward for future fold 3 as well</td>\n",
              "      <td>NEGATIVE</td>\n",
              "    </tr>\n",
              "    <tr>\n",
              "      <th>31</th>\n",
              "      <td>5</td>\n",
              "      <td>I have seen many viedios on it so why not give a try it's great I loved it anyways I buyed it for my son he loves it</td>\n",
              "      <td>NEGATIVE</td>\n",
              "    </tr>\n",
              "    <tr>\n",
              "      <th>32</th>\n",
              "      <td>5</td>\n",
              "      <td>Your browser does not support HTML5 video.\\n\\n\\n   At the start, let me say that I am a 'regular' use of a smartphone - I want my screen bright, fast, responsive, good camera, good network latching services, great battery et, - so I don't care if the screen, for example,  is AMOLED or whatever, if it is big &amp; beautiful, here's my money. I don't do professional photography with my smartphones but do expect them to have fabulous cameras when I cannot lug my Panasonic out!Anyway, my husband gifted me the Samsung Z Fold 2 (256 GB) in Mystic Bronze for my birthday this Jan. I was quite happy with my OnePlus 6T that had an amazing camera and all the other features. However, the Samsung Z Fold 2 is one of those gadgets that you didn't even know you needed till you get your hands on one. It's a true marvel of technology! I am treating it gingerly that I still haven't installed my SIM card in it - it's like a new friend, and we are just getting to know each other.Here's what I LOVE about it:1. I think I'm going to go back to reading! E-reading apps like Kindle and Aldiko look great and the dual screen is almost the same size as the physical Kindle.2. Multi-tasking rocks and is so so easy to master. I opened up an e-book on one window and the other window I opened up Goodreads on Google to read the book reviews. I can see myself doing that for news, dictionaries, etc of even reading product reviews on one window and shopping online on the other.3. Good cameras - many of them! Selfie mode with rear cameras is a cool thing.What I DON'T LIKE1. The wires earphones that come with the phone seem a little tacky.. for the price they charge, they could have added Samsung Buds or some wireless option.2. There is no case so I had to buy the Spigen case in Mystic Bronze for added protection.The bigger screen definitely needs some getting used to... Some may say that the front screen is to narrow and the unfolded screen is too wide! However, it's a true joy to watch video and multimedia with Fold 2.</td>\n",
              "      <td>NEGATIVE</td>\n",
              "    </tr>\n",
              "    <tr>\n",
              "      <th>33</th>\n",
              "      <td>5</td>\n",
              "      <td>I used to think that why should someone spend such a huge amount for a phone.  But then I realized, we are spending most of our time on phone for various tasks. Using super speed phones not only improve your productivity, but it also gives you confidence.I was using Moto G5 plus for last 4 years.  Phone was decent, but it started getting hung when I used multiple apps. Then, I took risk and went for Fold 2. Believe me, this is the best phone with almost all the features. Phone is designed so smartly and this feature of using tab and phone simultaneously is really very useful. There is no problem of hung phone, slow speed etc. Overall, a must buy if your budget permits.And yes, it stands you out from the crowd. Whenever you open it, believe me, almost everyone will start asking you about this phone.</td>\n",
              "      <td>NEGATIVE</td>\n",
              "    </tr>\n",
              "    <tr>\n",
              "      <th>43</th>\n",
              "      <td>5</td>\n",
              "      <td>This device is a beast , 865+ no crease fold and price at which it launched is amazing,  pre booked the device got it on the launch date</td>\n",
              "      <td>NEGATIVE</td>\n",
              "    </tr>\n",
              "  </tbody>\n",
              "</table>\n",
              "</div>"
            ],
            "text/plain": [
              "    rating  ... sentimentw\n",
              "3   5       ...  NEGATIVE \n",
              "4   5       ...  NEGATIVE \n",
              "5   5       ...  NEGATIVE \n",
              "13  4       ...  NEGATIVE \n",
              "14  5       ...  NEGATIVE \n",
              "20  4       ...  NEGATIVE \n",
              "31  5       ...  NEGATIVE \n",
              "32  5       ...  NEGATIVE \n",
              "33  5       ...  NEGATIVE \n",
              "43  5       ...  NEGATIVE \n",
              "\n",
              "[10 rows x 3 columns]"
            ]
          },
          "metadata": {},
          "execution_count": 95
        }
      ]
    },
    {
      "cell_type": "code",
      "metadata": {
        "id": "zOlpTDB9G1Lo",
        "outputId": "5d4562ed-d15d-4ee2-8534-681d1d9e3f77",
        "colab": {
          "base_uri": "https://localhost:8080/",
          "height": 181
        }
      },
      "source": [
        "df2 = df[(df[\"rating\"]<=3) & (df[\"sentimentw\"]==\"POSITIVE\")]\n",
        "df2.head(40)"
      ],
      "execution_count": 96,
      "outputs": [
        {
          "output_type": "execute_result",
          "data": {
            "text/html": [
              "<div>\n",
              "<style scoped>\n",
              "    .dataframe tbody tr th:only-of-type {\n",
              "        vertical-align: middle;\n",
              "    }\n",
              "\n",
              "    .dataframe tbody tr th {\n",
              "        vertical-align: top;\n",
              "    }\n",
              "\n",
              "    .dataframe thead th {\n",
              "        text-align: right;\n",
              "    }\n",
              "</style>\n",
              "<table border=\"1\" class=\"dataframe\">\n",
              "  <thead>\n",
              "    <tr style=\"text-align: right;\">\n",
              "      <th></th>\n",
              "      <th>rating</th>\n",
              "      <th>body</th>\n",
              "      <th>sentimentw</th>\n",
              "    </tr>\n",
              "  </thead>\n",
              "  <tbody>\n",
              "    <tr>\n",
              "      <th>15</th>\n",
              "      <td>3</td>\n",
              "      <td>The phone is fine. Except a bit small to type with closed screen and a bit large to type with open screen. What is unfair is that you can get this phone for INR 140, 000 with watch and headphones in the market. they are selling it for INR 150, 000 without headphone and the watch. What kind of system is that? Where is my watch and headphones????</td>\n",
              "      <td>POSITIVE</td>\n",
              "    </tr>\n",
              "    <tr>\n",
              "      <th>29</th>\n",
              "      <td>3</td>\n",
              "      <td>Finally a flagship Qualcomm processor in samsung mobile,great👏👏👏 sd 865+ at a price tag of 1 human kidney Excellent mobile(1.5 lacs).</td>\n",
              "      <td>POSITIVE</td>\n",
              "    </tr>\n",
              "  </tbody>\n",
              "</table>\n",
              "</div>"
            ],
            "text/plain": [
              "    rating  ... sentimentw\n",
              "15  3       ...  POSITIVE \n",
              "29  3       ...  POSITIVE \n",
              "\n",
              "[2 rows x 3 columns]"
            ]
          },
          "metadata": {},
          "execution_count": 96
        }
      ]
    }
  ]
}